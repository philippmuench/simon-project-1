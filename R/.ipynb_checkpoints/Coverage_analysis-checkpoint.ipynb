{
 "cells": [
  {
   "cell_type": "code",
   "execution_count": 3,
   "id": "d4782977",
   "metadata": {},
   "outputs": [
    {
     "name": "stderr",
     "output_type": "stream",
     "text": [
      "Loading required package: GenomicRanges\n",
      "\n",
      "Loading required package: stats4\n",
      "\n",
      "Loading required package: BiocGenerics\n",
      "\n",
      "Loading required package: parallel\n",
      "\n",
      "\n",
      "Attaching package: ‘BiocGenerics’\n",
      "\n",
      "\n",
      "The following objects are masked from ‘package:parallel’:\n",
      "\n",
      "    clusterApply, clusterApplyLB, clusterCall, clusterEvalQ,\n",
      "    clusterExport, clusterMap, parApply, parCapply, parLapply,\n",
      "    parLapplyLB, parRapply, parSapply, parSapplyLB\n",
      "\n",
      "\n",
      "The following objects are masked from ‘package:stats’:\n",
      "\n",
      "    IQR, mad, sd, var, xtabs\n",
      "\n",
      "\n",
      "The following objects are masked from ‘package:base’:\n",
      "\n",
      "    anyDuplicated, append, as.data.frame, basename, cbind, colnames,\n",
      "    dirname, do.call, duplicated, eval, evalq, Filter, Find, get, grep,\n",
      "    grepl, intersect, is.unsorted, lapply, Map, mapply, match, mget,\n",
      "    order, paste, pmax, pmax.int, pmin, pmin.int, Position, rank,\n",
      "    rbind, Reduce, rownames, sapply, setdiff, sort, table, tapply,\n",
      "    union, unique, unsplit, which.max, which.min\n",
      "\n",
      "\n",
      "Loading required package: S4Vectors\n",
      "\n",
      "\n",
      "Attaching package: ‘S4Vectors’\n",
      "\n",
      "\n",
      "The following objects are masked from ‘package:base’:\n",
      "\n",
      "    expand.grid, I, unname\n",
      "\n",
      "\n",
      "Loading required package: IRanges\n",
      "\n",
      "Loading required package: GenomeInfoDb\n",
      "\n"
     ]
    }
   ],
   "source": [
    "library(rtracklayer)\n",
    "library(ggplot2)"
   ]
  },
  {
   "cell_type": "code",
   "execution_count": 4,
   "id": "9c2f443a",
   "metadata": {},
   "outputs": [
    {
     "data": {
      "text/html": [
       "<style>\n",
       ".list-inline {list-style: none; margin:0; padding: 0}\n",
       ".list-inline>li {display: inline-block}\n",
       ".list-inline>li:not(:last-child)::after {content: \"\\00b7\"; padding: 0 .5ex}\n",
       "</style>\n",
       "<ol class=list-inline><li>'../run_300322/coverage/S1.dedup.bam.bw'</li><li>'../run_300322/coverage/S2.dedup.bam.bw'</li><li>'../run_300322/coverage/S3.dedup.bam.bw'</li><li>'../run_300322/coverage/S4.dedup.bam.bw'</li></ol>\n"
      ],
      "text/latex": [
       "\\begin{enumerate*}\n",
       "\\item '../run\\_300322/coverage/S1.dedup.bam.bw'\n",
       "\\item '../run\\_300322/coverage/S2.dedup.bam.bw'\n",
       "\\item '../run\\_300322/coverage/S3.dedup.bam.bw'\n",
       "\\item '../run\\_300322/coverage/S4.dedup.bam.bw'\n",
       "\\end{enumerate*}\n"
      ],
      "text/markdown": [
       "1. '../run_300322/coverage/S1.dedup.bam.bw'\n",
       "2. '../run_300322/coverage/S2.dedup.bam.bw'\n",
       "3. '../run_300322/coverage/S3.dedup.bam.bw'\n",
       "4. '../run_300322/coverage/S4.dedup.bam.bw'\n",
       "\n",
       "\n"
      ],
      "text/plain": [
       "[1] \"../run_300322/coverage/S1.dedup.bam.bw\"\n",
       "[2] \"../run_300322/coverage/S2.dedup.bam.bw\"\n",
       "[3] \"../run_300322/coverage/S3.dedup.bam.bw\"\n",
       "[4] \"../run_300322/coverage/S4.dedup.bam.bw\""
      ]
     },
     "metadata": {},
     "output_type": "display_data"
    }
   ],
   "source": [
    "list.files(\"../run_300322/coverage\", full.names = T)"
   ]
  },
  {
   "cell_type": "code",
   "execution_count": 5,
   "id": "ced3f082",
   "metadata": {},
   "outputs": [
    {
     "data": {
      "image/png": "[encoded data removed]",
      "text/plain": [
       "Plot with title “Histogram of bw_s1$score”"
      ]
     },
     "metadata": {
      "image/png": {
       "height": 420,
       "width": 420
      }
     },
     "output_type": "display_data"
    }
   ],
   "source": [
    "bw_s1 <- import.bw(\"../run_300322/coverage/S1.dedup.bam.bw\")\n",
    "hist(bw_s1$score)"
   ]
  },
  {
   "cell_type": "code",
   "execution_count": 8,
   "id": "8bde3625",
   "metadata": {},
   "outputs": [
    {
     "data": {
      "text/html": [
       "<table class=\"dataframe\">\n",
       "<caption>A data.frame: 20 × 6</caption>\n",
       "<thead>\n",
       "\t<tr><th></th><th scope=col>seqnames</th><th scope=col>start</th><th scope=col>end</th><th scope=col>width</th><th scope=col>strand</th><th scope=col>score</th></tr>\n",
       "\t<tr><th></th><th scope=col>&lt;fct&gt;</th><th scope=col>&lt;int&gt;</th><th scope=col>&lt;int&gt;</th><th scope=col>&lt;int&gt;</th><th scope=col>&lt;fct&gt;</th><th scope=col>&lt;dbl&gt;</th></tr>\n",
       "</thead>\n",
       "<tbody>\n",
       "\t<tr><th scope=row>1</th><td>SW161_genome</td><td>      1</td><td> 622700</td><td>622700</td><td>*</td><td> 0</td></tr>\n",
       "\t<tr><th scope=row>2</th><td>SW161_genome</td><td> 622701</td><td> 622750</td><td>    50</td><td>*</td><td> 3</td></tr>\n",
       "\t<tr><th scope=row>3</th><td>SW161_genome</td><td> 622751</td><td> 622800</td><td>    50</td><td>*</td><td> 5</td></tr>\n",
       "\t<tr><th scope=row>4</th><td>SW161_genome</td><td> 622801</td><td> 622900</td><td>   100</td><td>*</td><td> 8</td></tr>\n",
       "\t<tr><th scope=row>5</th><td>SW161_genome</td><td> 622901</td><td> 622950</td><td>    50</td><td>*</td><td> 5</td></tr>\n",
       "\t<tr><th scope=row>6</th><td>SW161_genome</td><td> 622951</td><td> 623000</td><td>    50</td><td>*</td><td> 2</td></tr>\n",
       "\t<tr><th scope=row>7</th><td>SW161_genome</td><td> 623001</td><td> 747700</td><td>124700</td><td>*</td><td> 0</td></tr>\n",
       "\t<tr><th scope=row>8</th><td>SW161_genome</td><td> 747701</td><td> 747750</td><td>    50</td><td>*</td><td>38</td></tr>\n",
       "\t<tr><th scope=row>9</th><td>SW161_genome</td><td> 747751</td><td> 747900</td><td>   150</td><td>*</td><td>43</td></tr>\n",
       "\t<tr><th scope=row>10</th><td>SW161_genome</td><td> 747901</td><td> 747950</td><td>    50</td><td>*</td><td> 4</td></tr>\n",
       "\t<tr><th scope=row>11</th><td>SW161_genome</td><td> 747951</td><td> 805750</td><td> 57800</td><td>*</td><td> 0</td></tr>\n",
       "\t<tr><th scope=row>12</th><td>SW161_genome</td><td> 805751</td><td> 805850</td><td>   100</td><td>*</td><td>38</td></tr>\n",
       "\t<tr><th scope=row>13</th><td>SW161_genome</td><td> 805851</td><td> 872850</td><td> 67000</td><td>*</td><td> 0</td></tr>\n",
       "\t<tr><th scope=row>14</th><td>SW161_genome</td><td> 872851</td><td> 872900</td><td>    50</td><td>*</td><td> 4</td></tr>\n",
       "\t<tr><th scope=row>15</th><td>SW161_genome</td><td> 872901</td><td> 872950</td><td>    50</td><td>*</td><td> 6</td></tr>\n",
       "\t<tr><th scope=row>16</th><td>SW161_genome</td><td> 872951</td><td> 873050</td><td>   100</td><td>*</td><td> 7</td></tr>\n",
       "\t<tr><th scope=row>17</th><td>SW161_genome</td><td> 873051</td><td> 873100</td><td>    50</td><td>*</td><td> 3</td></tr>\n",
       "\t<tr><th scope=row>18</th><td>SW161_genome</td><td> 873101</td><td> 873150</td><td>    50</td><td>*</td><td> 1</td></tr>\n",
       "\t<tr><th scope=row>19</th><td>SW161_genome</td><td> 873151</td><td>1348350</td><td>475200</td><td>*</td><td> 0</td></tr>\n",
       "\t<tr><th scope=row>20</th><td>SW161_genome</td><td>1348351</td><td>1348400</td><td>    50</td><td>*</td><td> 5</td></tr>\n",
       "</tbody>\n",
       "</table>\n"
      ],
      "text/latex": [
       "A data.frame: 20 × 6\n",
       "\\begin{tabular}{r|llllll}\n",
       "  & seqnames & start & end & width & strand & score\\\\\n",
       "  & <fct> & <int> & <int> & <int> & <fct> & <dbl>\\\\\n",
       "\\hline\n",
       "\t1 & SW161\\_genome &       1 &  622700 & 622700 & * &  0\\\\\n",
       "\t2 & SW161\\_genome &  622701 &  622750 &     50 & * &  3\\\\\n",
       "\t3 & SW161\\_genome &  622751 &  622800 &     50 & * &  5\\\\\n",
       "\t4 & SW161\\_genome &  622801 &  622900 &    100 & * &  8\\\\\n",
       "\t5 & SW161\\_genome &  622901 &  622950 &     50 & * &  5\\\\\n",
       "\t6 & SW161\\_genome &  622951 &  623000 &     50 & * &  2\\\\\n",
       "\t7 & SW161\\_genome &  623001 &  747700 & 124700 & * &  0\\\\\n",
       "\t8 & SW161\\_genome &  747701 &  747750 &     50 & * & 38\\\\\n",
       "\t9 & SW161\\_genome &  747751 &  747900 &    150 & * & 43\\\\\n",
       "\t10 & SW161\\_genome &  747901 &  747950 &     50 & * &  4\\\\\n",
       "\t11 & SW161\\_genome &  747951 &  805750 &  57800 & * &  0\\\\\n",
       "\t12 & SW161\\_genome &  805751 &  805850 &    100 & * & 38\\\\\n",
       "\t13 & SW161\\_genome &  805851 &  872850 &  67000 & * &  0\\\\\n",
       "\t14 & SW161\\_genome &  872851 &  872900 &     50 & * &  4\\\\\n",
       "\t15 & SW161\\_genome &  872901 &  872950 &     50 & * &  6\\\\\n",
       "\t16 & SW161\\_genome &  872951 &  873050 &    100 & * &  7\\\\\n",
       "\t17 & SW161\\_genome &  873051 &  873100 &     50 & * &  3\\\\\n",
       "\t18 & SW161\\_genome &  873101 &  873150 &     50 & * &  1\\\\\n",
       "\t19 & SW161\\_genome &  873151 & 1348350 & 475200 & * &  0\\\\\n",
       "\t20 & SW161\\_genome & 1348351 & 1348400 &     50 & * &  5\\\\\n",
       "\\end{tabular}\n"
      ],
      "text/markdown": [
       "\n",
       "A data.frame: 20 × 6\n",
       "\n",
       "| <!--/--> | seqnames &lt;fct&gt; | start &lt;int&gt; | end &lt;int&gt; | width &lt;int&gt; | strand &lt;fct&gt; | score &lt;dbl&gt; |\n",
       "|---|---|---|---|---|---|---|\n",
       "| 1 | SW161_genome |       1 |  622700 | 622700 | * |  0 |\n",
       "| 2 | SW161_genome |  622701 |  622750 |     50 | * |  3 |\n",
       "| 3 | SW161_genome |  622751 |  622800 |     50 | * |  5 |\n",
       "| 4 | SW161_genome |  622801 |  622900 |    100 | * |  8 |\n",
       "| 5 | SW161_genome |  622901 |  622950 |     50 | * |  5 |\n",
       "| 6 | SW161_genome |  622951 |  623000 |     50 | * |  2 |\n",
       "| 7 | SW161_genome |  623001 |  747700 | 124700 | * |  0 |\n",
       "| 8 | SW161_genome |  747701 |  747750 |     50 | * | 38 |\n",
       "| 9 | SW161_genome |  747751 |  747900 |    150 | * | 43 |\n",
       "| 10 | SW161_genome |  747901 |  747950 |     50 | * |  4 |\n",
       "| 11 | SW161_genome |  747951 |  805750 |  57800 | * |  0 |\n",
       "| 12 | SW161_genome |  805751 |  805850 |    100 | * | 38 |\n",
       "| 13 | SW161_genome |  805851 |  872850 |  67000 | * |  0 |\n",
       "| 14 | SW161_genome |  872851 |  872900 |     50 | * |  4 |\n",
       "| 15 | SW161_genome |  872901 |  872950 |     50 | * |  6 |\n",
       "| 16 | SW161_genome |  872951 |  873050 |    100 | * |  7 |\n",
       "| 17 | SW161_genome |  873051 |  873100 |     50 | * |  3 |\n",
       "| 18 | SW161_genome |  873101 |  873150 |     50 | * |  1 |\n",
       "| 19 | SW161_genome |  873151 | 1348350 | 475200 | * |  0 |\n",
       "| 20 | SW161_genome | 1348351 | 1348400 |     50 | * |  5 |\n",
       "\n"
      ],
      "text/plain": [
       "   seqnames     start   end     width  strand score\n",
       "1  SW161_genome       1  622700 622700 *       0   \n",
       "2  SW161_genome  622701  622750     50 *       3   \n",
       "3  SW161_genome  622751  622800     50 *       5   \n",
       "4  SW161_genome  622801  622900    100 *       8   \n",
       "5  SW161_genome  622901  622950     50 *       5   \n",
       "6  SW161_genome  622951  623000     50 *       2   \n",
       "7  SW161_genome  623001  747700 124700 *       0   \n",
       "8  SW161_genome  747701  747750     50 *      38   \n",
       "9  SW161_genome  747751  747900    150 *      43   \n",
       "10 SW161_genome  747901  747950     50 *       4   \n",
       "11 SW161_genome  747951  805750  57800 *       0   \n",
       "12 SW161_genome  805751  805850    100 *      38   \n",
       "13 SW161_genome  805851  872850  67000 *       0   \n",
       "14 SW161_genome  872851  872900     50 *       4   \n",
       "15 SW161_genome  872901  872950     50 *       6   \n",
       "16 SW161_genome  872951  873050    100 *       7   \n",
       "17 SW161_genome  873051  873100     50 *       3   \n",
       "18 SW161_genome  873101  873150     50 *       1   \n",
       "19 SW161_genome  873151 1348350 475200 *       0   \n",
       "20 SW161_genome 1348351 1348400     50 *       5   "
      ]
     },
     "metadata": {},
     "output_type": "display_data"
    }
   ],
   "source": [
    "bw_s1 <- as.data.frame(bw_s1)\n",
    "\n",
    "head(bw_s1, n =  20)\n",
    "\n",
    "bw_s1aggregate(score ~ seqnames, bw_s1, sum)\n"
   ]
  },
  {
   "cell_type": "code",
   "execution_count": 15,
   "id": "0ba72317",
   "metadata": {},
   "outputs": [
    {
     "data": {
      "image/png": "[encoded data removed]",
      "text/plain": [
       "Plot with title “Histogram of bw_s2$score”"
      ]
     },
     "metadata": {
      "image/png": {
       "height": 420,
       "width": 420
      }
     },
     "output_type": "display_data"
    }
   ],
   "source": [
    "bw_s2 <- import.bw(\"bw/S3.dedup.bam.bw\")\n",
    "hist(bw_s2$score)"
   ]
  },
  {
   "cell_type": "code",
   "execution_count": 16,
   "id": "0e787b0e",
   "metadata": {},
   "outputs": [
    {
     "data": {
      "image/png": "[encoded data removed]",
      "text/plain": [
       "Plot with title “Histogram of bw_s4$score”"
      ]
     },
     "metadata": {
      "image/png": {
       "height": 420,
       "width": 420
      }
     },
     "output_type": "display_data"
    }
   ],
   "source": [
    "bw_s4 <- import.bw(\"bw/S4.dedup.bam.bw\")\n",
    "hist(bw_s4$score)"
   ]
  },
  {
   "cell_type": "code",
   "execution_count": 18,
   "id": "07f0a3aa",
   "metadata": {},
   "outputs": [],
   "source": [
    "bw_s4_df <- data.frame(bw_s4)"
   ]
  },
  {
   "cell_type": "code",
   "execution_count": 19,
   "id": "2ba5a1c3",
   "metadata": {},
   "outputs": [
    {
     "data": {
      "text/html": [
       "<style>\n",
       ".list-inline {list-style: none; margin:0; padding: 0}\n",
       ".list-inline>li {display: inline-block}\n",
       ".list-inline>li:not(:last-child)::after {content: \"\\00b7\"; padding: 0 .5ex}\n",
       "</style>\n",
       "<ol class=list-inline><li>'seqnames'</li><li>'start'</li><li>'end'</li><li>'width'</li><li>'strand'</li><li>'score'</li></ol>\n"
      ],
      "text/latex": [
       "\\begin{enumerate*}\n",
       "\\item 'seqnames'\n",
       "\\item 'start'\n",
       "\\item 'end'\n",
       "\\item 'width'\n",
       "\\item 'strand'\n",
       "\\item 'score'\n",
       "\\end{enumerate*}\n"
      ],
      "text/markdown": [
       "1. 'seqnames'\n",
       "2. 'start'\n",
       "3. 'end'\n",
       "4. 'width'\n",
       "5. 'strand'\n",
       "6. 'score'\n",
       "\n",
       "\n"
      ],
      "text/plain": [
       "[1] \"seqnames\" \"start\"    \"end\"      \"width\"    \"strand\"   \"score\"   "
      ]
     },
     "metadata": {},
     "output_type": "display_data"
    }
   ],
   "source": [
    "colnames(bw_s4_df)"
   ]
  },
  {
   "cell_type": "code",
   "execution_count": 20,
   "id": "06d45bd9",
   "metadata": {},
   "outputs": [
    {
     "data": {
      "text/html": [
       "<table class=\"dataframe\">\n",
       "<caption>A data.frame: 6 × 6</caption>\n",
       "<thead>\n",
       "\t<tr><th></th><th scope=col>seqnames</th><th scope=col>start</th><th scope=col>end</th><th scope=col>width</th><th scope=col>strand</th><th scope=col>score</th></tr>\n",
       "\t<tr><th></th><th scope=col>&lt;fct&gt;</th><th scope=col>&lt;int&gt;</th><th scope=col>&lt;int&gt;</th><th scope=col>&lt;int&gt;</th><th scope=col>&lt;fct&gt;</th><th scope=col>&lt;dbl&gt;</th></tr>\n",
       "</thead>\n",
       "<tbody>\n",
       "\t<tr><th scope=row>1</th><td>SW168_genome</td><td>1</td><td>3025610</td><td>3025610</td><td>*</td><td>0</td></tr>\n",
       "\t<tr><th scope=row>2</th><td>SW172_genome</td><td>1</td><td>3025607</td><td>3025607</td><td>*</td><td>0</td></tr>\n",
       "\t<tr><th scope=row>3</th><td>SW179_genome</td><td>1</td><td>3025607</td><td>3025607</td><td>*</td><td>0</td></tr>\n",
       "\t<tr><th scope=row>4</th><td>SW170_genome</td><td>1</td><td>3025617</td><td>3025617</td><td>*</td><td>0</td></tr>\n",
       "\t<tr><th scope=row>5</th><td>SW159_genome</td><td>1</td><td>3025654</td><td>3025654</td><td>*</td><td>0</td></tr>\n",
       "\t<tr><th scope=row>6</th><td>SW176_genome</td><td>1</td><td>3025615</td><td>3025615</td><td>*</td><td>0</td></tr>\n",
       "</tbody>\n",
       "</table>\n"
      ],
      "text/latex": [
       "A data.frame: 6 × 6\n",
       "\\begin{tabular}{r|llllll}\n",
       "  & seqnames & start & end & width & strand & score\\\\\n",
       "  & <fct> & <int> & <int> & <int> & <fct> & <dbl>\\\\\n",
       "\\hline\n",
       "\t1 & SW168\\_genome & 1 & 3025610 & 3025610 & * & 0\\\\\n",
       "\t2 & SW172\\_genome & 1 & 3025607 & 3025607 & * & 0\\\\\n",
       "\t3 & SW179\\_genome & 1 & 3025607 & 3025607 & * & 0\\\\\n",
       "\t4 & SW170\\_genome & 1 & 3025617 & 3025617 & * & 0\\\\\n",
       "\t5 & SW159\\_genome & 1 & 3025654 & 3025654 & * & 0\\\\\n",
       "\t6 & SW176\\_genome & 1 & 3025615 & 3025615 & * & 0\\\\\n",
       "\\end{tabular}\n"
      ],
      "text/markdown": [
       "\n",
       "A data.frame: 6 × 6\n",
       "\n",
       "| <!--/--> | seqnames &lt;fct&gt; | start &lt;int&gt; | end &lt;int&gt; | width &lt;int&gt; | strand &lt;fct&gt; | score &lt;dbl&gt; |\n",
       "|---|---|---|---|---|---|---|\n",
       "| 1 | SW168_genome | 1 | 3025610 | 3025610 | * | 0 |\n",
       "| 2 | SW172_genome | 1 | 3025607 | 3025607 | * | 0 |\n",
       "| 3 | SW179_genome | 1 | 3025607 | 3025607 | * | 0 |\n",
       "| 4 | SW170_genome | 1 | 3025617 | 3025617 | * | 0 |\n",
       "| 5 | SW159_genome | 1 | 3025654 | 3025654 | * | 0 |\n",
       "| 6 | SW176_genome | 1 | 3025615 | 3025615 | * | 0 |\n",
       "\n"
      ],
      "text/plain": [
       "  seqnames     start end     width   strand score\n",
       "1 SW168_genome 1     3025610 3025610 *      0    \n",
       "2 SW172_genome 1     3025607 3025607 *      0    \n",
       "3 SW179_genome 1     3025607 3025607 *      0    \n",
       "4 SW170_genome 1     3025617 3025617 *      0    \n",
       "5 SW159_genome 1     3025654 3025654 *      0    \n",
       "6 SW176_genome 1     3025615 3025615 *      0    "
      ]
     },
     "metadata": {},
     "output_type": "display_data"
    }
   ],
   "source": [
    "head(bw_s4_df)"
   ]
  },
  {
   "cell_type": "code",
   "execution_count": 21,
   "id": "c71d736c",
   "metadata": {},
   "outputs": [
    {
     "data": {
      "text/html": [
       "<table class=\"dataframe\">\n",
       "<caption>A data.frame: 24 × 6</caption>\n",
       "<thead>\n",
       "\t<tr><th scope=col>seqnames</th><th scope=col>start</th><th scope=col>end</th><th scope=col>width</th><th scope=col>strand</th><th scope=col>score</th></tr>\n",
       "\t<tr><th scope=col>&lt;fct&gt;</th><th scope=col>&lt;int&gt;</th><th scope=col>&lt;int&gt;</th><th scope=col>&lt;int&gt;</th><th scope=col>&lt;fct&gt;</th><th scope=col>&lt;dbl&gt;</th></tr>\n",
       "</thead>\n",
       "<tbody>\n",
       "\t<tr><td>SW168_genome </td><td>      1</td><td>3025610</td><td>3025610</td><td>*</td><td>0</td></tr>\n",
       "\t<tr><td>SW172_genome </td><td>      1</td><td>3025607</td><td>3025607</td><td>*</td><td>0</td></tr>\n",
       "\t<tr><td>SW179_genome </td><td>      1</td><td>3025607</td><td>3025607</td><td>*</td><td>0</td></tr>\n",
       "\t<tr><td>SW170_genome </td><td>      1</td><td>3025617</td><td>3025617</td><td>*</td><td>0</td></tr>\n",
       "\t<tr><td>SW159_genome </td><td>      1</td><td>3025654</td><td>3025654</td><td>*</td><td>0</td></tr>\n",
       "\t<tr><td>SW176_genome </td><td>      1</td><td>3025615</td><td>3025615</td><td>*</td><td>0</td></tr>\n",
       "\t<tr><td>SW174_genomes</td><td>      1</td><td>3025622</td><td>3025622</td><td>*</td><td>0</td></tr>\n",
       "\t<tr><td>SW178_genome </td><td>      1</td><td>3025608</td><td>3025608</td><td>*</td><td>0</td></tr>\n",
       "\t<tr><td>SW161_genome </td><td>      1</td><td>3025613</td><td>3025613</td><td>*</td><td>0</td></tr>\n",
       "\t<tr><td>SW180_genome </td><td>      1</td><td>3025655</td><td>3025655</td><td>*</td><td>0</td></tr>\n",
       "\t<tr><td>SW166_genome </td><td>      1</td><td>3025619</td><td>3025619</td><td>*</td><td>0</td></tr>\n",
       "\t<tr><td>SW149_genome </td><td>      1</td><td>3025655</td><td>3025655</td><td>*</td><td>0</td></tr>\n",
       "\t<tr><td>SW163_genome </td><td>      1</td><td>3025622</td><td>3025622</td><td>*</td><td>0</td></tr>\n",
       "\t<tr><td>SW157_genome </td><td>      1</td><td>3025654</td><td>3025654</td><td>*</td><td>0</td></tr>\n",
       "\t<tr><td>SW143_genome </td><td>      1</td><td>3025655</td><td>3025655</td><td>*</td><td>0</td></tr>\n",
       "\t<tr><td>SW156_genome </td><td>      1</td><td>3025654</td><td>3025654</td><td>*</td><td>0</td></tr>\n",
       "\t<tr><td>SW160_genome </td><td>      1</td><td>3025654</td><td>3025654</td><td>*</td><td>0</td></tr>\n",
       "\t<tr><td>SW151_genome </td><td>      1</td><td>3025654</td><td>3025654</td><td>*</td><td>0</td></tr>\n",
       "\t<tr><td>SW146_genome </td><td>      1</td><td>1624300</td><td>1624300</td><td>*</td><td>0</td></tr>\n",
       "\t<tr><td>SW146_genome </td><td>1624301</td><td>1624500</td><td>    200</td><td>*</td><td>1</td></tr>\n",
       "\t<tr><td>SW146_genome </td><td>1624501</td><td>3025654</td><td>1401154</td><td>*</td><td>0</td></tr>\n",
       "\t<tr><td>SW152_genome </td><td>      1</td><td>3025654</td><td>3025654</td><td>*</td><td>0</td></tr>\n",
       "\t<tr><td>SW144_genome </td><td>      1</td><td>3025653</td><td>3025653</td><td>*</td><td>0</td></tr>\n",
       "\t<tr><td>SW141_genome </td><td>      1</td><td>3025655</td><td>3025655</td><td>*</td><td>0</td></tr>\n",
       "</tbody>\n",
       "</table>\n"
      ],
      "text/latex": [
       "A data.frame: 24 × 6\n",
       "\\begin{tabular}{llllll}\n",
       " seqnames & start & end & width & strand & score\\\\\n",
       " <fct> & <int> & <int> & <int> & <fct> & <dbl>\\\\\n",
       "\\hline\n",
       "\t SW168\\_genome  &       1 & 3025610 & 3025610 & * & 0\\\\\n",
       "\t SW172\\_genome  &       1 & 3025607 & 3025607 & * & 0\\\\\n",
       "\t SW179\\_genome  &       1 & 3025607 & 3025607 & * & 0\\\\\n",
       "\t SW170\\_genome  &       1 & 3025617 & 3025617 & * & 0\\\\\n",
       "\t SW159\\_genome  &       1 & 3025654 & 3025654 & * & 0\\\\\n",
       "\t SW176\\_genome  &       1 & 3025615 & 3025615 & * & 0\\\\\n",
       "\t SW174\\_genomes &       1 & 3025622 & 3025622 & * & 0\\\\\n",
       "\t SW178\\_genome  &       1 & 3025608 & 3025608 & * & 0\\\\\n",
       "\t SW161\\_genome  &       1 & 3025613 & 3025613 & * & 0\\\\\n",
       "\t SW180\\_genome  &       1 & 3025655 & 3025655 & * & 0\\\\\n",
       "\t SW166\\_genome  &       1 & 3025619 & 3025619 & * & 0\\\\\n",
       "\t SW149\\_genome  &       1 & 3025655 & 3025655 & * & 0\\\\\n",
       "\t SW163\\_genome  &       1 & 3025622 & 3025622 & * & 0\\\\\n",
       "\t SW157\\_genome  &       1 & 3025654 & 3025654 & * & 0\\\\\n",
       "\t SW143\\_genome  &       1 & 3025655 & 3025655 & * & 0\\\\\n",
       "\t SW156\\_genome  &       1 & 3025654 & 3025654 & * & 0\\\\\n",
       "\t SW160\\_genome  &       1 & 3025654 & 3025654 & * & 0\\\\\n",
       "\t SW151\\_genome  &       1 & 3025654 & 3025654 & * & 0\\\\\n",
       "\t SW146\\_genome  &       1 & 1624300 & 1624300 & * & 0\\\\\n",
       "\t SW146\\_genome  & 1624301 & 1624500 &     200 & * & 1\\\\\n",
       "\t SW146\\_genome  & 1624501 & 3025654 & 1401154 & * & 0\\\\\n",
       "\t SW152\\_genome  &       1 & 3025654 & 3025654 & * & 0\\\\\n",
       "\t SW144\\_genome  &       1 & 3025653 & 3025653 & * & 0\\\\\n",
       "\t SW141\\_genome  &       1 & 3025655 & 3025655 & * & 0\\\\\n",
       "\\end{tabular}\n"
      ],
      "text/markdown": [
       "\n",
       "A data.frame: 24 × 6\n",
       "\n",
       "| seqnames &lt;fct&gt; | start &lt;int&gt; | end &lt;int&gt; | width &lt;int&gt; | strand &lt;fct&gt; | score &lt;dbl&gt; |\n",
       "|---|---|---|---|---|---|\n",
       "| SW168_genome  |       1 | 3025610 | 3025610 | * | 0 |\n",
       "| SW172_genome  |       1 | 3025607 | 3025607 | * | 0 |\n",
       "| SW179_genome  |       1 | 3025607 | 3025607 | * | 0 |\n",
       "| SW170_genome  |       1 | 3025617 | 3025617 | * | 0 |\n",
       "| SW159_genome  |       1 | 3025654 | 3025654 | * | 0 |\n",
       "| SW176_genome  |       1 | 3025615 | 3025615 | * | 0 |\n",
       "| SW174_genomes |       1 | 3025622 | 3025622 | * | 0 |\n",
       "| SW178_genome  |       1 | 3025608 | 3025608 | * | 0 |\n",
       "| SW161_genome  |       1 | 3025613 | 3025613 | * | 0 |\n",
       "| SW180_genome  |       1 | 3025655 | 3025655 | * | 0 |\n",
       "| SW166_genome  |       1 | 3025619 | 3025619 | * | 0 |\n",
       "| SW149_genome  |       1 | 3025655 | 3025655 | * | 0 |\n",
       "| SW163_genome  |       1 | 3025622 | 3025622 | * | 0 |\n",
       "| SW157_genome  |       1 | 3025654 | 3025654 | * | 0 |\n",
       "| SW143_genome  |       1 | 3025655 | 3025655 | * | 0 |\n",
       "| SW156_genome  |       1 | 3025654 | 3025654 | * | 0 |\n",
       "| SW160_genome  |       1 | 3025654 | 3025654 | * | 0 |\n",
       "| SW151_genome  |       1 | 3025654 | 3025654 | * | 0 |\n",
       "| SW146_genome  |       1 | 1624300 | 1624300 | * | 0 |\n",
       "| SW146_genome  | 1624301 | 1624500 |     200 | * | 1 |\n",
       "| SW146_genome  | 1624501 | 3025654 | 1401154 | * | 0 |\n",
       "| SW152_genome  |       1 | 3025654 | 3025654 | * | 0 |\n",
       "| SW144_genome  |       1 | 3025653 | 3025653 | * | 0 |\n",
       "| SW141_genome  |       1 | 3025655 | 3025655 | * | 0 |\n",
       "\n"
      ],
      "text/plain": [
       "   seqnames      start   end     width   strand score\n",
       "1  SW168_genome        1 3025610 3025610 *      0    \n",
       "2  SW172_genome        1 3025607 3025607 *      0    \n",
       "3  SW179_genome        1 3025607 3025607 *      0    \n",
       "4  SW170_genome        1 3025617 3025617 *      0    \n",
       "5  SW159_genome        1 3025654 3025654 *      0    \n",
       "6  SW176_genome        1 3025615 3025615 *      0    \n",
       "7  SW174_genomes       1 3025622 3025622 *      0    \n",
       "8  SW178_genome        1 3025608 3025608 *      0    \n",
       "9  SW161_genome        1 3025613 3025613 *      0    \n",
       "10 SW180_genome        1 3025655 3025655 *      0    \n",
       "11 SW166_genome        1 3025619 3025619 *      0    \n",
       "12 SW149_genome        1 3025655 3025655 *      0    \n",
       "13 SW163_genome        1 3025622 3025622 *      0    \n",
       "14 SW157_genome        1 3025654 3025654 *      0    \n",
       "15 SW143_genome        1 3025655 3025655 *      0    \n",
       "16 SW156_genome        1 3025654 3025654 *      0    \n",
       "17 SW160_genome        1 3025654 3025654 *      0    \n",
       "18 SW151_genome        1 3025654 3025654 *      0    \n",
       "19 SW146_genome        1 1624300 1624300 *      0    \n",
       "20 SW146_genome  1624301 1624500     200 *      1    \n",
       "21 SW146_genome  1624501 3025654 1401154 *      0    \n",
       "22 SW152_genome        1 3025654 3025654 *      0    \n",
       "23 SW144_genome        1 3025653 3025653 *      0    \n",
       "24 SW141_genome        1 3025655 3025655 *      0    "
      ]
     },
     "metadata": {},
     "output_type": "display_data"
    }
   ],
   "source": [
    "bw_s4_df"
   ]
  },
  {
   "cell_type": "code",
   "execution_count": null,
   "id": "0379bbe1",
   "metadata": {},
   "outputs": [],
   "source": []
  }
 ],
 "metadata": {
  "kernelspec": {
   "display_name": "R",
   "language": "R",
   "name": "ir"
  },
  "language_info": {
   "codemirror_mode": "r",
   "file_extension": ".r",
   "mimetype": "text/x-r-source",
   "name": "R",
   "pygments_lexer": "r",
   "version": "4.1.0"
  }
 },
 "nbformat": 4,
 "nbformat_minor": 5
}
