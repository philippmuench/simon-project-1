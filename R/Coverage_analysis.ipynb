{
 "cells": [
  {
   "cell_type": "code",
   "execution_count": 3,
   "id": "d4782977",
   "metadata": {},
   "outputs": [
    {
     "name": "stderr",
     "output_type": "stream",
     "text": [
      "Loading required package: GenomicRanges\n",
      "\n",
      "Loading required package: stats4\n",
      "\n",
      "Loading required package: BiocGenerics\n",
      "\n",
      "Loading required package: parallel\n",
      "\n",
      "\n",
      "Attaching package: ‘BiocGenerics’\n",
      "\n",
      "\n",
      "The following objects are masked from ‘package:parallel’:\n",
      "\n",
      "    clusterApply, clusterApplyLB, clusterCall, clusterEvalQ,\n",
      "    clusterExport, clusterMap, parApply, parCapply, parLapply,\n",
      "    parLapplyLB, parRapply, parSapply, parSapplyLB\n",
      "\n",
      "\n",
      "The following objects are masked from ‘package:stats’:\n",
      "\n",
      "    IQR, mad, sd, var, xtabs\n",
      "\n",
      "\n",
      "The following objects are masked from ‘package:base’:\n",
      "\n",
      "    anyDuplicated, append, as.data.frame, basename, cbind, colnames,\n",
      "    dirname, do.call, duplicated, eval, evalq, Filter, Find, get, grep,\n",
      "    grepl, intersect, is.unsorted, lapply, Map, mapply, match, mget,\n",
      "    order, paste, pmax, pmax.int, pmin, pmin.int, Position, rank,\n",
      "    rbind, Reduce, rownames, sapply, setdiff, sort, table, tapply,\n",
      "    union, unique, unsplit, which.max, which.min\n",
      "\n",
      "\n",
      "Loading required package: S4Vectors\n",
      "\n",
      "\n",
      "Attaching package: ‘S4Vectors’\n",
      "\n",
      "\n",
      "The following objects are masked from ‘package:base’:\n",
      "\n",
      "    expand.grid, I, unname\n",
      "\n",
      "\n",
      "Loading required package: IRanges\n",
      "\n",
      "Loading required package: GenomeInfoDb\n",
      "\n"
     ]
    }
   ],
   "source": [
    "library(rtracklayer)\n",
    "library(ggplot2)"
   ]
  },
  {
   "cell_type": "code",
   "execution_count": 4,
   "id": "9c2f443a",
   "metadata": {},
   "outputs": [
    {
     "data": {
      "text/html": [
       "<style>\n",
       ".list-inline {list-style: none; margin:0; padding: 0}\n",
       ".list-inline>li {display: inline-block}\n",
       ".list-inline>li:not(:last-child)::after {content: \"\\00b7\"; padding: 0 .5ex}\n",
       "</style>\n",
       "<ol class=list-inline><li>'../run_300322/coverage/S1.dedup.bam.bw'</li><li>'../run_300322/coverage/S2.dedup.bam.bw'</li><li>'../run_300322/coverage/S3.dedup.bam.bw'</li><li>'../run_300322/coverage/S4.dedup.bam.bw'</li></ol>\n"
      ],
      "text/latex": [
       "\\begin{enumerate*}\n",
       "\\item '../run\\_300322/coverage/S1.dedup.bam.bw'\n",
       "\\item '../run\\_300322/coverage/S2.dedup.bam.bw'\n",
       "\\item '../run\\_300322/coverage/S3.dedup.bam.bw'\n",
       "\\item '../run\\_300322/coverage/S4.dedup.bam.bw'\n",
       "\\end{enumerate*}\n"
      ],
      "text/markdown": [
       "1. '../run_300322/coverage/S1.dedup.bam.bw'\n",
       "2. '../run_300322/coverage/S2.dedup.bam.bw'\n",
       "3. '../run_300322/coverage/S3.dedup.bam.bw'\n",
       "4. '../run_300322/coverage/S4.dedup.bam.bw'\n",
       "\n",
       "\n"
      ],
      "text/plain": [
       "[1] \"../run_300322/coverage/S1.dedup.bam.bw\"\n",
       "[2] \"../run_300322/coverage/S2.dedup.bam.bw\"\n",
       "[3] \"../run_300322/coverage/S3.dedup.bam.bw\"\n",
       "[4] \"../run_300322/coverage/S4.dedup.bam.bw\""
      ]
     },
     "metadata": {},
     "output_type": "display_data"
    }
   ],
   "source": [
    "list.files(\"../run_300322/coverage\", full.names = T)"
   ]
  },
  {
   "cell_type": "code",
   "execution_count": 5,
   "id": "ced3f082",
   "metadata": {},
   "outputs": [
    {
     "data": {
      "image/png": "[encoded data removed]",
      "text/plain": [
       "Plot with title “Histogram of bw_s1$score”"
      ]
     },
     "metadata": {
      "image/png": {
       "height": 420,
       "width": 420
      }
     },
     "output_type": "display_data"
    }
   ],
   "source": [
    "bw_s1 <- import.bw(\"../run_300322/coverage/S1.dedup.bam.bw\")\n",
    "hist(bw_s1$score)"
   ]
  },
  {
   "cell_type": "code",
   "execution_count": 17,
   "id": "b3a4986a",
   "metadata": {},
   "outputs": [
    {
     "data": {
      "text/html": [
       "<table class=\"dataframe\">\n",
       "<caption>A data.frame: 6 × 6</caption>\n",
       "<thead>\n",
       "\t<tr><th></th><th scope=col>seqnames</th><th scope=col>start</th><th scope=col>end</th><th scope=col>width</th><th scope=col>strand</th><th scope=col>score</th></tr>\n",
       "\t<tr><th></th><th scope=col>&lt;fct&gt;</th><th scope=col>&lt;int&gt;</th><th scope=col>&lt;int&gt;</th><th scope=col>&lt;int&gt;</th><th scope=col>&lt;fct&gt;</th><th scope=col>&lt;dbl&gt;</th></tr>\n",
       "</thead>\n",
       "<tbody>\n",
       "\t<tr><th scope=row>1</th><td>SW161_genome</td><td>     1</td><td>622700</td><td>622700</td><td>*</td><td>0</td></tr>\n",
       "\t<tr><th scope=row>2</th><td>SW161_genome</td><td>622701</td><td>622750</td><td>    50</td><td>*</td><td>3</td></tr>\n",
       "\t<tr><th scope=row>3</th><td>SW161_genome</td><td>622751</td><td>622800</td><td>    50</td><td>*</td><td>5</td></tr>\n",
       "\t<tr><th scope=row>4</th><td>SW161_genome</td><td>622801</td><td>622900</td><td>   100</td><td>*</td><td>8</td></tr>\n",
       "\t<tr><th scope=row>5</th><td>SW161_genome</td><td>622901</td><td>622950</td><td>    50</td><td>*</td><td>5</td></tr>\n",
       "\t<tr><th scope=row>6</th><td>SW161_genome</td><td>622951</td><td>623000</td><td>    50</td><td>*</td><td>2</td></tr>\n",
       "</tbody>\n",
       "</table>\n"
      ],
      "text/latex": [
       "A data.frame: 6 × 6\n",
       "\\begin{tabular}{r|llllll}\n",
       "  & seqnames & start & end & width & strand & score\\\\\n",
       "  & <fct> & <int> & <int> & <int> & <fct> & <dbl>\\\\\n",
       "\\hline\n",
       "\t1 & SW161\\_genome &      1 & 622700 & 622700 & * & 0\\\\\n",
       "\t2 & SW161\\_genome & 622701 & 622750 &     50 & * & 3\\\\\n",
       "\t3 & SW161\\_genome & 622751 & 622800 &     50 & * & 5\\\\\n",
       "\t4 & SW161\\_genome & 622801 & 622900 &    100 & * & 8\\\\\n",
       "\t5 & SW161\\_genome & 622901 & 622950 &     50 & * & 5\\\\\n",
       "\t6 & SW161\\_genome & 622951 & 623000 &     50 & * & 2\\\\\n",
       "\\end{tabular}\n"
      ],
      "text/markdown": [
       "\n",
       "A data.frame: 6 × 6\n",
       "\n",
       "| <!--/--> | seqnames &lt;fct&gt; | start &lt;int&gt; | end &lt;int&gt; | width &lt;int&gt; | strand &lt;fct&gt; | score &lt;dbl&gt; |\n",
       "|---|---|---|---|---|---|---|\n",
       "| 1 | SW161_genome |      1 | 622700 | 622700 | * | 0 |\n",
       "| 2 | SW161_genome | 622701 | 622750 |     50 | * | 3 |\n",
       "| 3 | SW161_genome | 622751 | 622800 |     50 | * | 5 |\n",
       "| 4 | SW161_genome | 622801 | 622900 |    100 | * | 8 |\n",
       "| 5 | SW161_genome | 622901 | 622950 |     50 | * | 5 |\n",
       "| 6 | SW161_genome | 622951 | 623000 |     50 | * | 2 |\n",
       "\n"
      ],
      "text/plain": [
       "  seqnames     start  end    width  strand score\n",
       "1 SW161_genome      1 622700 622700 *      0    \n",
       "2 SW161_genome 622701 622750     50 *      3    \n",
       "3 SW161_genome 622751 622800     50 *      5    \n",
       "4 SW161_genome 622801 622900    100 *      8    \n",
       "5 SW161_genome 622901 622950     50 *      5    \n",
       "6 SW161_genome 622951 623000     50 *      2    "
      ]
     },
     "metadata": {},
     "output_type": "display_data"
    },
    {
     "data": {
      "text/html": [
       "<table class=\"dataframe\">\n",
       "<caption>A data.frame: 11 × 2</caption>\n",
       "<thead>\n",
       "\t<tr><th scope=col>seqnames</th><th scope=col>score</th></tr>\n",
       "\t<tr><th scope=col>&lt;fct&gt;</th><th scope=col>&lt;dbl&gt;</th></tr>\n",
       "</thead>\n",
       "<tbody>\n",
       "\t<tr><td>SW161_genome </td><td>  332</td></tr>\n",
       "\t<tr><td>SW163_genome </td><td>  278</td></tr>\n",
       "\t<tr><td>SW166_genome </td><td>  184</td></tr>\n",
       "\t<tr><td>SW168_genome </td><td>  500</td></tr>\n",
       "\t<tr><td>SW170_genome </td><td>  906</td></tr>\n",
       "\t<tr><td>SW172_genome </td><td>  671</td></tr>\n",
       "\t<tr><td>SW174_genomes</td><td>   33</td></tr>\n",
       "\t<tr><td>SW176_genome </td><td>   17</td></tr>\n",
       "\t<tr><td>SW178_genome </td><td>12465</td></tr>\n",
       "\t<tr><td>SW179_genome </td><td> 1211</td></tr>\n",
       "\t<tr><td>SW180_genome </td><td> 5728</td></tr>\n",
       "</tbody>\n",
       "</table>\n"
      ],
      "text/latex": [
       "A data.frame: 11 × 2\n",
       "\\begin{tabular}{ll}\n",
       " seqnames & score\\\\\n",
       " <fct> & <dbl>\\\\\n",
       "\\hline\n",
       "\t SW161\\_genome  &   332\\\\\n",
       "\t SW163\\_genome  &   278\\\\\n",
       "\t SW166\\_genome  &   184\\\\\n",
       "\t SW168\\_genome  &   500\\\\\n",
       "\t SW170\\_genome  &   906\\\\\n",
       "\t SW172\\_genome  &   671\\\\\n",
       "\t SW174\\_genomes &    33\\\\\n",
       "\t SW176\\_genome  &    17\\\\\n",
       "\t SW178\\_genome  & 12465\\\\\n",
       "\t SW179\\_genome  &  1211\\\\\n",
       "\t SW180\\_genome  &  5728\\\\\n",
       "\\end{tabular}\n"
      ],
      "text/markdown": [
       "\n",
       "A data.frame: 11 × 2\n",
       "\n",
       "| seqnames &lt;fct&gt; | score &lt;dbl&gt; |\n",
       "|---|---|\n",
       "| SW161_genome  |   332 |\n",
       "| SW163_genome  |   278 |\n",
       "| SW166_genome  |   184 |\n",
       "| SW168_genome  |   500 |\n",
       "| SW170_genome  |   906 |\n",
       "| SW172_genome  |   671 |\n",
       "| SW174_genomes |    33 |\n",
       "| SW176_genome  |    17 |\n",
       "| SW178_genome  | 12465 |\n",
       "| SW179_genome  |  1211 |\n",
       "| SW180_genome  |  5728 |\n",
       "\n"
      ],
      "text/plain": [
       "   seqnames      score\n",
       "1  SW161_genome    332\n",
       "2  SW163_genome    278\n",
       "3  SW166_genome    184\n",
       "4  SW168_genome    500\n",
       "5  SW170_genome    906\n",
       "6  SW172_genome    671\n",
       "7  SW174_genomes    33\n",
       "8  SW176_genome     17\n",
       "9  SW178_genome  12465\n",
       "10 SW179_genome   1211\n",
       "11 SW180_genome   5728"
      ]
     },
     "metadata": {},
     "output_type": "display_data"
    },
    {
     "data": {
      "image/png": "[encoded data removed]",
      "text/plain": [
       "Plot with title “Histogram of bw_s1$score”"
      ]
     },
     "metadata": {
      "image/png": {
       "height": 420,
       "width": 420
      }
     },
     "output_type": "display_data"
    }
   ],
   "source": [
    "bw_s1 <- import.bw(\"../run_300322/coverage/S1.dedup.bam.bw\")\n",
    "hist(bw_s1$score)\n",
    "bw_s1 <- as.data.frame(bw_s1)\n",
    "head(bw_s1)\n",
    "bw_s1_agg <- aggregate(score ~ seqnames, bw_s1, sum)\n",
    "bw_s1_agg"
   ]
  },
  {
   "cell_type": "code",
   "execution_count": 16,
   "id": "8e1255f4",
   "metadata": {},
   "outputs": [
    {
     "data": {
      "text/html": [
       "<table class=\"dataframe\">\n",
       "<caption>A data.frame: 6 × 6</caption>\n",
       "<thead>\n",
       "\t<tr><th></th><th scope=col>seqnames</th><th scope=col>start</th><th scope=col>end</th><th scope=col>width</th><th scope=col>strand</th><th scope=col>score</th></tr>\n",
       "\t<tr><th></th><th scope=col>&lt;fct&gt;</th><th scope=col>&lt;int&gt;</th><th scope=col>&lt;int&gt;</th><th scope=col>&lt;int&gt;</th><th scope=col>&lt;fct&gt;</th><th scope=col>&lt;dbl&gt;</th></tr>\n",
       "</thead>\n",
       "<tbody>\n",
       "\t<tr><th scope=row>1</th><td>SW161_genome</td><td>     1</td><td> 805750</td><td> 805750</td><td>*</td><td>0</td></tr>\n",
       "\t<tr><th scope=row>2</th><td>SW161_genome</td><td>805751</td><td> 805850</td><td>    100</td><td>*</td><td>1</td></tr>\n",
       "\t<tr><th scope=row>3</th><td>SW161_genome</td><td>805851</td><td>3025613</td><td>2219763</td><td>*</td><td>0</td></tr>\n",
       "\t<tr><th scope=row>4</th><td>SW163_genome</td><td>     1</td><td>3025622</td><td>3025622</td><td>*</td><td>0</td></tr>\n",
       "\t<tr><th scope=row>5</th><td>SW166_genome</td><td>     1</td><td>3025619</td><td>3025619</td><td>*</td><td>0</td></tr>\n",
       "\t<tr><th scope=row>6</th><td>SW168_genome</td><td>     1</td><td> 805650</td><td> 805650</td><td>*</td><td>0</td></tr>\n",
       "</tbody>\n",
       "</table>\n"
      ],
      "text/latex": [
       "A data.frame: 6 × 6\n",
       "\\begin{tabular}{r|llllll}\n",
       "  & seqnames & start & end & width & strand & score\\\\\n",
       "  & <fct> & <int> & <int> & <int> & <fct> & <dbl>\\\\\n",
       "\\hline\n",
       "\t1 & SW161\\_genome &      1 &  805750 &  805750 & * & 0\\\\\n",
       "\t2 & SW161\\_genome & 805751 &  805850 &     100 & * & 1\\\\\n",
       "\t3 & SW161\\_genome & 805851 & 3025613 & 2219763 & * & 0\\\\\n",
       "\t4 & SW163\\_genome &      1 & 3025622 & 3025622 & * & 0\\\\\n",
       "\t5 & SW166\\_genome &      1 & 3025619 & 3025619 & * & 0\\\\\n",
       "\t6 & SW168\\_genome &      1 &  805650 &  805650 & * & 0\\\\\n",
       "\\end{tabular}\n"
      ],
      "text/markdown": [
       "\n",
       "A data.frame: 6 × 6\n",
       "\n",
       "| <!--/--> | seqnames &lt;fct&gt; | start &lt;int&gt; | end &lt;int&gt; | width &lt;int&gt; | strand &lt;fct&gt; | score &lt;dbl&gt; |\n",
       "|---|---|---|---|---|---|---|\n",
       "| 1 | SW161_genome |      1 |  805750 |  805750 | * | 0 |\n",
       "| 2 | SW161_genome | 805751 |  805850 |     100 | * | 1 |\n",
       "| 3 | SW161_genome | 805851 | 3025613 | 2219763 | * | 0 |\n",
       "| 4 | SW163_genome |      1 | 3025622 | 3025622 | * | 0 |\n",
       "| 5 | SW166_genome |      1 | 3025619 | 3025619 | * | 0 |\n",
       "| 6 | SW168_genome |      1 |  805650 |  805650 | * | 0 |\n",
       "\n"
      ],
      "text/plain": [
       "  seqnames     start  end     width   strand score\n",
       "1 SW161_genome      1  805750  805750 *      0    \n",
       "2 SW161_genome 805751  805850     100 *      1    \n",
       "3 SW161_genome 805851 3025613 2219763 *      0    \n",
       "4 SW163_genome      1 3025622 3025622 *      0    \n",
       "5 SW166_genome      1 3025619 3025619 *      0    \n",
       "6 SW168_genome      1  805650  805650 *      0    "
      ]
     },
     "metadata": {},
     "output_type": "display_data"
    },
    {
     "data": {
      "text/html": [
       "<table class=\"dataframe\">\n",
       "<caption>A data.frame: 11 × 2</caption>\n",
       "<thead>\n",
       "\t<tr><th scope=col>seqnames</th><th scope=col>score</th></tr>\n",
       "\t<tr><th scope=col>&lt;fct&gt;</th><th scope=col>&lt;dbl&gt;</th></tr>\n",
       "</thead>\n",
       "<tbody>\n",
       "\t<tr><td>SW161_genome </td><td>1</td></tr>\n",
       "\t<tr><td>SW163_genome </td><td>0</td></tr>\n",
       "\t<tr><td>SW166_genome </td><td>0</td></tr>\n",
       "\t<tr><td>SW168_genome </td><td>1</td></tr>\n",
       "\t<tr><td>SW170_genome </td><td>0</td></tr>\n",
       "\t<tr><td>SW172_genome </td><td>0</td></tr>\n",
       "\t<tr><td>SW174_genomes</td><td>0</td></tr>\n",
       "\t<tr><td>SW176_genome </td><td>0</td></tr>\n",
       "\t<tr><td>SW178_genome </td><td>0</td></tr>\n",
       "\t<tr><td>SW179_genome </td><td>0</td></tr>\n",
       "\t<tr><td>SW180_genome </td><td>0</td></tr>\n",
       "</tbody>\n",
       "</table>\n"
      ],
      "text/latex": [
       "A data.frame: 11 × 2\n",
       "\\begin{tabular}{ll}\n",
       " seqnames & score\\\\\n",
       " <fct> & <dbl>\\\\\n",
       "\\hline\n",
       "\t SW161\\_genome  & 1\\\\\n",
       "\t SW163\\_genome  & 0\\\\\n",
       "\t SW166\\_genome  & 0\\\\\n",
       "\t SW168\\_genome  & 1\\\\\n",
       "\t SW170\\_genome  & 0\\\\\n",
       "\t SW172\\_genome  & 0\\\\\n",
       "\t SW174\\_genomes & 0\\\\\n",
       "\t SW176\\_genome  & 0\\\\\n",
       "\t SW178\\_genome  & 0\\\\\n",
       "\t SW179\\_genome  & 0\\\\\n",
       "\t SW180\\_genome  & 0\\\\\n",
       "\\end{tabular}\n"
      ],
      "text/markdown": [
       "\n",
       "A data.frame: 11 × 2\n",
       "\n",
       "| seqnames &lt;fct&gt; | score &lt;dbl&gt; |\n",
       "|---|---|\n",
       "| SW161_genome  | 1 |\n",
       "| SW163_genome  | 0 |\n",
       "| SW166_genome  | 0 |\n",
       "| SW168_genome  | 1 |\n",
       "| SW170_genome  | 0 |\n",
       "| SW172_genome  | 0 |\n",
       "| SW174_genomes | 0 |\n",
       "| SW176_genome  | 0 |\n",
       "| SW178_genome  | 0 |\n",
       "| SW179_genome  | 0 |\n",
       "| SW180_genome  | 0 |\n",
       "\n"
      ],
      "text/plain": [
       "   seqnames      score\n",
       "1  SW161_genome  1    \n",
       "2  SW163_genome  0    \n",
       "3  SW166_genome  0    \n",
       "4  SW168_genome  1    \n",
       "5  SW170_genome  0    \n",
       "6  SW172_genome  0    \n",
       "7  SW174_genomes 0    \n",
       "8  SW176_genome  0    \n",
       "9  SW178_genome  0    \n",
       "10 SW179_genome  0    \n",
       "11 SW180_genome  0    "
      ]
     },
     "metadata": {},
     "output_type": "display_data"
    },
    {
     "data": {
      "image/png": "[encoded data removed]",
      "text/plain": [
       "Plot with title “Histogram of bw_s2$score”"
      ]
     },
     "metadata": {
      "image/png": {
       "height": 420,
       "width": 420
      }
     },
     "output_type": "display_data"
    }
   ],
   "source": [
    "bw_s2 <- import.bw(\"../run_300322/coverage/S2.dedup.bam.bw\")\n",
    "hist(bw_s2$score)\n",
    "bw_s2 <- as.data.frame(bw_s2)\n",
    "head(bw_s2)\n",
    "bw_s2_agg <- aggregate(score ~ seqnames, bw_s2, sum)\n",
    "bw_s2_agg"
   ]
  },
  {
   "cell_type": "code",
   "execution_count": 20,
   "id": "0ba72317",
   "metadata": {},
   "outputs": [
    {
     "data": {
      "text/html": [
       "<table class=\"dataframe\">\n",
       "<caption>A data.frame: 55 × 6</caption>\n",
       "<thead>\n",
       "\t<tr><th scope=col>seqnames</th><th scope=col>start</th><th scope=col>end</th><th scope=col>width</th><th scope=col>strand</th><th scope=col>score</th></tr>\n",
       "\t<tr><th scope=col>&lt;fct&gt;</th><th scope=col>&lt;int&gt;</th><th scope=col>&lt;int&gt;</th><th scope=col>&lt;int&gt;</th><th scope=col>&lt;fct&gt;</th><th scope=col>&lt;dbl&gt;</th></tr>\n",
       "</thead>\n",
       "<tbody>\n",
       "\t<tr><td>SW141_genome</td><td>      1</td><td>2602800</td><td>2602800</td><td>*</td><td>  0</td></tr>\n",
       "\t<tr><td>SW141_genome</td><td>2602801</td><td>2602850</td><td>     50</td><td>*</td><td>  9</td></tr>\n",
       "\t<tr><td>SW141_genome</td><td>2602851</td><td>2602900</td><td>     50</td><td>*</td><td> 62</td></tr>\n",
       "\t<tr><td>SW141_genome</td><td>2602901</td><td>2602950</td><td>     50</td><td>*</td><td>109</td></tr>\n",
       "\t<tr><td>SW141_genome</td><td>2602951</td><td>2603000</td><td>     50</td><td>*</td><td>140</td></tr>\n",
       "\t<tr><td>SW141_genome</td><td>2603001</td><td>2603050</td><td>     50</td><td>*</td><td>131</td></tr>\n",
       "\t<tr><td>SW141_genome</td><td>2603051</td><td>2603100</td><td>     50</td><td>*</td><td> 78</td></tr>\n",
       "\t<tr><td>SW141_genome</td><td>2603101</td><td>2603150</td><td>     50</td><td>*</td><td> 29</td></tr>\n",
       "\t<tr><td>SW141_genome</td><td>2603151</td><td>3025655</td><td> 422505</td><td>*</td><td>  0</td></tr>\n",
       "\t<tr><td>SW143_genome</td><td>      1</td><td>3025655</td><td>3025655</td><td>*</td><td>  0</td></tr>\n",
       "\t<tr><td>SW144_genome</td><td>      1</td><td>3025653</td><td>3025653</td><td>*</td><td>  0</td></tr>\n",
       "\t<tr><td>SW146_genome</td><td>      1</td><td> 695100</td><td> 695100</td><td>*</td><td>  0</td></tr>\n",
       "\t<tr><td>SW146_genome</td><td> 695101</td><td> 695150</td><td>     50</td><td>*</td><td>  2</td></tr>\n",
       "\t<tr><td>SW146_genome</td><td> 695151</td><td> 695200</td><td>     50</td><td>*</td><td>  5</td></tr>\n",
       "\t<tr><td>SW146_genome</td><td> 695201</td><td> 695250</td><td>     50</td><td>*</td><td>  6</td></tr>\n",
       "\t<tr><td>SW146_genome</td><td> 695251</td><td> 695300</td><td>     50</td><td>*</td><td>  9</td></tr>\n",
       "\t<tr><td>SW146_genome</td><td> 695301</td><td> 695350</td><td>     50</td><td>*</td><td>  7</td></tr>\n",
       "\t<tr><td>SW146_genome</td><td> 695351</td><td> 695400</td><td>     50</td><td>*</td><td>  4</td></tr>\n",
       "\t<tr><td>SW146_genome</td><td> 695401</td><td> 695450</td><td>     50</td><td>*</td><td>  3</td></tr>\n",
       "\t<tr><td>SW146_genome</td><td> 695451</td><td>1165450</td><td> 470000</td><td>*</td><td>  0</td></tr>\n",
       "\t<tr><td>SW146_genome</td><td>1165451</td><td>1165500</td><td>     50</td><td>*</td><td>  1</td></tr>\n",
       "\t<tr><td>SW146_genome</td><td>1165501</td><td>1165550</td><td>     50</td><td>*</td><td>  5</td></tr>\n",
       "\t<tr><td>SW146_genome</td><td>1165551</td><td>1165600</td><td>     50</td><td>*</td><td>  7</td></tr>\n",
       "\t<tr><td>SW146_genome</td><td>1165601</td><td>1165650</td><td>     50</td><td>*</td><td> 12</td></tr>\n",
       "\t<tr><td>SW146_genome</td><td>1165651</td><td>1165700</td><td>     50</td><td>*</td><td> 11</td></tr>\n",
       "\t<tr><td>SW146_genome</td><td>1165701</td><td>1165750</td><td>     50</td><td>*</td><td>  7</td></tr>\n",
       "\t<tr><td>SW146_genome</td><td>1165751</td><td>1165800</td><td>     50</td><td>*</td><td>  5</td></tr>\n",
       "\t<tr><td>SW146_genome</td><td>1165801</td><td>1624200</td><td> 458400</td><td>*</td><td>  0</td></tr>\n",
       "\t<tr><td>SW146_genome</td><td>1624201</td><td>1624250</td><td>     50</td><td>*</td><td>  1</td></tr>\n",
       "\t<tr><td>SW146_genome</td><td>1624251</td><td>1624300</td><td>     50</td><td>*</td><td>  6</td></tr>\n",
       "\t<tr><td>SW146_genome</td><td>1624301</td><td>1624350</td><td>     50</td><td>*</td><td> 12</td></tr>\n",
       "\t<tr><td>SW146_genome</td><td>1624351</td><td>1624400</td><td>     50</td><td>*</td><td> 17</td></tr>\n",
       "\t<tr><td>SW146_genome</td><td>1624401</td><td>1624450</td><td>     50</td><td>*</td><td> 16</td></tr>\n",
       "\t<tr><td>SW146_genome</td><td>1624451</td><td>1624500</td><td>     50</td><td>*</td><td> 11</td></tr>\n",
       "\t<tr><td>SW146_genome</td><td>1624501</td><td>1624550</td><td>     50</td><td>*</td><td>  5</td></tr>\n",
       "\t<tr><td>SW146_genome</td><td>1624551</td><td>2242700</td><td> 618150</td><td>*</td><td>  0</td></tr>\n",
       "\t<tr><td>SW146_genome</td><td>2242701</td><td>2242750</td><td>     50</td><td>*</td><td>  1</td></tr>\n",
       "\t<tr><td>SW146_genome</td><td>2242751</td><td>2242900</td><td>    150</td><td>*</td><td>  7</td></tr>\n",
       "\t<tr><td>SW146_genome</td><td>2242901</td><td>2242950</td><td>     50</td><td>*</td><td>  4</td></tr>\n",
       "\t<tr><td>SW146_genome</td><td>2242951</td><td>3025654</td><td> 782704</td><td>*</td><td>  0</td></tr>\n",
       "\t<tr><td>SW149_genome</td><td>      1</td><td>1456900</td><td>1456900</td><td>*</td><td>  0</td></tr>\n",
       "\t<tr><td>SW149_genome</td><td>1456901</td><td>1457000</td><td>    100</td><td>*</td><td>  1</td></tr>\n",
       "\t<tr><td>SW149_genome</td><td>1457001</td><td>3025655</td><td>1568655</td><td>*</td><td>  0</td></tr>\n",
       "\t<tr><td>SW151_genome</td><td>      1</td><td>3025654</td><td>3025654</td><td>*</td><td>  0</td></tr>\n",
       "\t<tr><td>SW152_genome</td><td>      1</td><td>3025654</td><td>3025654</td><td>*</td><td>  0</td></tr>\n",
       "\t<tr><td>SW156_genome</td><td>      1</td><td>3025654</td><td>3025654</td><td>*</td><td>  0</td></tr>\n",
       "\t<tr><td>SW157_genome</td><td>      1</td><td>3025654</td><td>3025654</td><td>*</td><td>  0</td></tr>\n",
       "\t<tr><td>SW159_genome</td><td>      1</td><td>2828750</td><td>2828750</td><td>*</td><td>  0</td></tr>\n",
       "\t<tr><td>SW159_genome</td><td>2828751</td><td>2828800</td><td>     50</td><td>*</td><td>  6</td></tr>\n",
       "\t<tr><td>SW159_genome</td><td>2828801</td><td>2828850</td><td>     50</td><td>*</td><td>  9</td></tr>\n",
       "\t<tr><td>SW159_genome</td><td>2828851</td><td>2828950</td><td>    100</td><td>*</td><td> 12</td></tr>\n",
       "\t<tr><td>SW159_genome</td><td>2828951</td><td>2829000</td><td>     50</td><td>*</td><td>  6</td></tr>\n",
       "\t<tr><td>SW159_genome</td><td>2829001</td><td>2829050</td><td>     50</td><td>*</td><td>  3</td></tr>\n",
       "\t<tr><td>SW159_genome</td><td>2829051</td><td>3025654</td><td> 196604</td><td>*</td><td>  0</td></tr>\n",
       "\t<tr><td>SW160_genome</td><td>      1</td><td>3025654</td><td>3025654</td><td>*</td><td>  0</td></tr>\n",
       "</tbody>\n",
       "</table>\n"
      ],
      "text/latex": [
       "A data.frame: 55 × 6\n",
       "\\begin{tabular}{llllll}\n",
       " seqnames & start & end & width & strand & score\\\\\n",
       " <fct> & <int> & <int> & <int> & <fct> & <dbl>\\\\\n",
       "\\hline\n",
       "\t SW141\\_genome &       1 & 2602800 & 2602800 & * &   0\\\\\n",
       "\t SW141\\_genome & 2602801 & 2602850 &      50 & * &   9\\\\\n",
       "\t SW141\\_genome & 2602851 & 2602900 &      50 & * &  62\\\\\n",
       "\t SW141\\_genome & 2602901 & 2602950 &      50 & * & 109\\\\\n",
       "\t SW141\\_genome & 2602951 & 2603000 &      50 & * & 140\\\\\n",
       "\t SW141\\_genome & 2603001 & 2603050 &      50 & * & 131\\\\\n",
       "\t SW141\\_genome & 2603051 & 2603100 &      50 & * &  78\\\\\n",
       "\t SW141\\_genome & 2603101 & 2603150 &      50 & * &  29\\\\\n",
       "\t SW141\\_genome & 2603151 & 3025655 &  422505 & * &   0\\\\\n",
       "\t SW143\\_genome &       1 & 3025655 & 3025655 & * &   0\\\\\n",
       "\t SW144\\_genome &       1 & 3025653 & 3025653 & * &   0\\\\\n",
       "\t SW146\\_genome &       1 &  695100 &  695100 & * &   0\\\\\n",
       "\t SW146\\_genome &  695101 &  695150 &      50 & * &   2\\\\\n",
       "\t SW146\\_genome &  695151 &  695200 &      50 & * &   5\\\\\n",
       "\t SW146\\_genome &  695201 &  695250 &      50 & * &   6\\\\\n",
       "\t SW146\\_genome &  695251 &  695300 &      50 & * &   9\\\\\n",
       "\t SW146\\_genome &  695301 &  695350 &      50 & * &   7\\\\\n",
       "\t SW146\\_genome &  695351 &  695400 &      50 & * &   4\\\\\n",
       "\t SW146\\_genome &  695401 &  695450 &      50 & * &   3\\\\\n",
       "\t SW146\\_genome &  695451 & 1165450 &  470000 & * &   0\\\\\n",
       "\t SW146\\_genome & 1165451 & 1165500 &      50 & * &   1\\\\\n",
       "\t SW146\\_genome & 1165501 & 1165550 &      50 & * &   5\\\\\n",
       "\t SW146\\_genome & 1165551 & 1165600 &      50 & * &   7\\\\\n",
       "\t SW146\\_genome & 1165601 & 1165650 &      50 & * &  12\\\\\n",
       "\t SW146\\_genome & 1165651 & 1165700 &      50 & * &  11\\\\\n",
       "\t SW146\\_genome & 1165701 & 1165750 &      50 & * &   7\\\\\n",
       "\t SW146\\_genome & 1165751 & 1165800 &      50 & * &   5\\\\\n",
       "\t SW146\\_genome & 1165801 & 1624200 &  458400 & * &   0\\\\\n",
       "\t SW146\\_genome & 1624201 & 1624250 &      50 & * &   1\\\\\n",
       "\t SW146\\_genome & 1624251 & 1624300 &      50 & * &   6\\\\\n",
       "\t SW146\\_genome & 1624301 & 1624350 &      50 & * &  12\\\\\n",
       "\t SW146\\_genome & 1624351 & 1624400 &      50 & * &  17\\\\\n",
       "\t SW146\\_genome & 1624401 & 1624450 &      50 & * &  16\\\\\n",
       "\t SW146\\_genome & 1624451 & 1624500 &      50 & * &  11\\\\\n",
       "\t SW146\\_genome & 1624501 & 1624550 &      50 & * &   5\\\\\n",
       "\t SW146\\_genome & 1624551 & 2242700 &  618150 & * &   0\\\\\n",
       "\t SW146\\_genome & 2242701 & 2242750 &      50 & * &   1\\\\\n",
       "\t SW146\\_genome & 2242751 & 2242900 &     150 & * &   7\\\\\n",
       "\t SW146\\_genome & 2242901 & 2242950 &      50 & * &   4\\\\\n",
       "\t SW146\\_genome & 2242951 & 3025654 &  782704 & * &   0\\\\\n",
       "\t SW149\\_genome &       1 & 1456900 & 1456900 & * &   0\\\\\n",
       "\t SW149\\_genome & 1456901 & 1457000 &     100 & * &   1\\\\\n",
       "\t SW149\\_genome & 1457001 & 3025655 & 1568655 & * &   0\\\\\n",
       "\t SW151\\_genome &       1 & 3025654 & 3025654 & * &   0\\\\\n",
       "\t SW152\\_genome &       1 & 3025654 & 3025654 & * &   0\\\\\n",
       "\t SW156\\_genome &       1 & 3025654 & 3025654 & * &   0\\\\\n",
       "\t SW157\\_genome &       1 & 3025654 & 3025654 & * &   0\\\\\n",
       "\t SW159\\_genome &       1 & 2828750 & 2828750 & * &   0\\\\\n",
       "\t SW159\\_genome & 2828751 & 2828800 &      50 & * &   6\\\\\n",
       "\t SW159\\_genome & 2828801 & 2828850 &      50 & * &   9\\\\\n",
       "\t SW159\\_genome & 2828851 & 2828950 &     100 & * &  12\\\\\n",
       "\t SW159\\_genome & 2828951 & 2829000 &      50 & * &   6\\\\\n",
       "\t SW159\\_genome & 2829001 & 2829050 &      50 & * &   3\\\\\n",
       "\t SW159\\_genome & 2829051 & 3025654 &  196604 & * &   0\\\\\n",
       "\t SW160\\_genome &       1 & 3025654 & 3025654 & * &   0\\\\\n",
       "\\end{tabular}\n"
      ],
      "text/markdown": [
       "\n",
       "A data.frame: 55 × 6\n",
       "\n",
       "| seqnames &lt;fct&gt; | start &lt;int&gt; | end &lt;int&gt; | width &lt;int&gt; | strand &lt;fct&gt; | score &lt;dbl&gt; |\n",
       "|---|---|---|---|---|---|\n",
       "| SW141_genome |       1 | 2602800 | 2602800 | * |   0 |\n",
       "| SW141_genome | 2602801 | 2602850 |      50 | * |   9 |\n",
       "| SW141_genome | 2602851 | 2602900 |      50 | * |  62 |\n",
       "| SW141_genome | 2602901 | 2602950 |      50 | * | 109 |\n",
       "| SW141_genome | 2602951 | 2603000 |      50 | * | 140 |\n",
       "| SW141_genome | 2603001 | 2603050 |      50 | * | 131 |\n",
       "| SW141_genome | 2603051 | 2603100 |      50 | * |  78 |\n",
       "| SW141_genome | 2603101 | 2603150 |      50 | * |  29 |\n",
       "| SW141_genome | 2603151 | 3025655 |  422505 | * |   0 |\n",
       "| SW143_genome |       1 | 3025655 | 3025655 | * |   0 |\n",
       "| SW144_genome |       1 | 3025653 | 3025653 | * |   0 |\n",
       "| SW146_genome |       1 |  695100 |  695100 | * |   0 |\n",
       "| SW146_genome |  695101 |  695150 |      50 | * |   2 |\n",
       "| SW146_genome |  695151 |  695200 |      50 | * |   5 |\n",
       "| SW146_genome |  695201 |  695250 |      50 | * |   6 |\n",
       "| SW146_genome |  695251 |  695300 |      50 | * |   9 |\n",
       "| SW146_genome |  695301 |  695350 |      50 | * |   7 |\n",
       "| SW146_genome |  695351 |  695400 |      50 | * |   4 |\n",
       "| SW146_genome |  695401 |  695450 |      50 | * |   3 |\n",
       "| SW146_genome |  695451 | 1165450 |  470000 | * |   0 |\n",
       "| SW146_genome | 1165451 | 1165500 |      50 | * |   1 |\n",
       "| SW146_genome | 1165501 | 1165550 |      50 | * |   5 |\n",
       "| SW146_genome | 1165551 | 1165600 |      50 | * |   7 |\n",
       "| SW146_genome | 1165601 | 1165650 |      50 | * |  12 |\n",
       "| SW146_genome | 1165651 | 1165700 |      50 | * |  11 |\n",
       "| SW146_genome | 1165701 | 1165750 |      50 | * |   7 |\n",
       "| SW146_genome | 1165751 | 1165800 |      50 | * |   5 |\n",
       "| SW146_genome | 1165801 | 1624200 |  458400 | * |   0 |\n",
       "| SW146_genome | 1624201 | 1624250 |      50 | * |   1 |\n",
       "| SW146_genome | 1624251 | 1624300 |      50 | * |   6 |\n",
       "| SW146_genome | 1624301 | 1624350 |      50 | * |  12 |\n",
       "| SW146_genome | 1624351 | 1624400 |      50 | * |  17 |\n",
       "| SW146_genome | 1624401 | 1624450 |      50 | * |  16 |\n",
       "| SW146_genome | 1624451 | 1624500 |      50 | * |  11 |\n",
       "| SW146_genome | 1624501 | 1624550 |      50 | * |   5 |\n",
       "| SW146_genome | 1624551 | 2242700 |  618150 | * |   0 |\n",
       "| SW146_genome | 2242701 | 2242750 |      50 | * |   1 |\n",
       "| SW146_genome | 2242751 | 2242900 |     150 | * |   7 |\n",
       "| SW146_genome | 2242901 | 2242950 |      50 | * |   4 |\n",
       "| SW146_genome | 2242951 | 3025654 |  782704 | * |   0 |\n",
       "| SW149_genome |       1 | 1456900 | 1456900 | * |   0 |\n",
       "| SW149_genome | 1456901 | 1457000 |     100 | * |   1 |\n",
       "| SW149_genome | 1457001 | 3025655 | 1568655 | * |   0 |\n",
       "| SW151_genome |       1 | 3025654 | 3025654 | * |   0 |\n",
       "| SW152_genome |       1 | 3025654 | 3025654 | * |   0 |\n",
       "| SW156_genome |       1 | 3025654 | 3025654 | * |   0 |\n",
       "| SW157_genome |       1 | 3025654 | 3025654 | * |   0 |\n",
       "| SW159_genome |       1 | 2828750 | 2828750 | * |   0 |\n",
       "| SW159_genome | 2828751 | 2828800 |      50 | * |   6 |\n",
       "| SW159_genome | 2828801 | 2828850 |      50 | * |   9 |\n",
       "| SW159_genome | 2828851 | 2828950 |     100 | * |  12 |\n",
       "| SW159_genome | 2828951 | 2829000 |      50 | * |   6 |\n",
       "| SW159_genome | 2829001 | 2829050 |      50 | * |   3 |\n",
       "| SW159_genome | 2829051 | 3025654 |  196604 | * |   0 |\n",
       "| SW160_genome |       1 | 3025654 | 3025654 | * |   0 |\n",
       "\n"
      ],
      "text/plain": [
       "   seqnames     start   end     width   strand score\n",
       "1  SW141_genome       1 2602800 2602800 *        0  \n",
       "2  SW141_genome 2602801 2602850      50 *        9  \n",
       "3  SW141_genome 2602851 2602900      50 *       62  \n",
       "4  SW141_genome 2602901 2602950      50 *      109  \n",
       "5  SW141_genome 2602951 2603000      50 *      140  \n",
       "6  SW141_genome 2603001 2603050      50 *      131  \n",
       "7  SW141_genome 2603051 2603100      50 *       78  \n",
       "8  SW141_genome 2603101 2603150      50 *       29  \n",
       "9  SW141_genome 2603151 3025655  422505 *        0  \n",
       "10 SW143_genome       1 3025655 3025655 *        0  \n",
       "11 SW144_genome       1 3025653 3025653 *        0  \n",
       "12 SW146_genome       1  695100  695100 *        0  \n",
       "13 SW146_genome  695101  695150      50 *        2  \n",
       "14 SW146_genome  695151  695200      50 *        5  \n",
       "15 SW146_genome  695201  695250      50 *        6  \n",
       "16 SW146_genome  695251  695300      50 *        9  \n",
       "17 SW146_genome  695301  695350      50 *        7  \n",
       "18 SW146_genome  695351  695400      50 *        4  \n",
       "19 SW146_genome  695401  695450      50 *        3  \n",
       "20 SW146_genome  695451 1165450  470000 *        0  \n",
       "21 SW146_genome 1165451 1165500      50 *        1  \n",
       "22 SW146_genome 1165501 1165550      50 *        5  \n",
       "23 SW146_genome 1165551 1165600      50 *        7  \n",
       "24 SW146_genome 1165601 1165650      50 *       12  \n",
       "25 SW146_genome 1165651 1165700      50 *       11  \n",
       "26 SW146_genome 1165701 1165750      50 *        7  \n",
       "27 SW146_genome 1165751 1165800      50 *        5  \n",
       "28 SW146_genome 1165801 1624200  458400 *        0  \n",
       "29 SW146_genome 1624201 1624250      50 *        1  \n",
       "30 SW146_genome 1624251 1624300      50 *        6  \n",
       "31 SW146_genome 1624301 1624350      50 *       12  \n",
       "32 SW146_genome 1624351 1624400      50 *       17  \n",
       "33 SW146_genome 1624401 1624450      50 *       16  \n",
       "34 SW146_genome 1624451 1624500      50 *       11  \n",
       "35 SW146_genome 1624501 1624550      50 *        5  \n",
       "36 SW146_genome 1624551 2242700  618150 *        0  \n",
       "37 SW146_genome 2242701 2242750      50 *        1  \n",
       "38 SW146_genome 2242751 2242900     150 *        7  \n",
       "39 SW146_genome 2242901 2242950      50 *        4  \n",
       "40 SW146_genome 2242951 3025654  782704 *        0  \n",
       "41 SW149_genome       1 1456900 1456900 *        0  \n",
       "42 SW149_genome 1456901 1457000     100 *        1  \n",
       "43 SW149_genome 1457001 3025655 1568655 *        0  \n",
       "44 SW151_genome       1 3025654 3025654 *        0  \n",
       "45 SW152_genome       1 3025654 3025654 *        0  \n",
       "46 SW156_genome       1 3025654 3025654 *        0  \n",
       "47 SW157_genome       1 3025654 3025654 *        0  \n",
       "48 SW159_genome       1 2828750 2828750 *        0  \n",
       "49 SW159_genome 2828751 2828800      50 *        6  \n",
       "50 SW159_genome 2828801 2828850      50 *        9  \n",
       "51 SW159_genome 2828851 2828950     100 *       12  \n",
       "52 SW159_genome 2828951 2829000      50 *        6  \n",
       "53 SW159_genome 2829001 2829050      50 *        3  \n",
       "54 SW159_genome 2829051 3025654  196604 *        0  \n",
       "55 SW160_genome       1 3025654 3025654 *        0  "
      ]
     },
     "metadata": {},
     "output_type": "display_data"
    },
    {
     "data": {
      "text/html": [
       "<table class=\"dataframe\">\n",
       "<caption>A data.frame: 11 × 2</caption>\n",
       "<thead>\n",
       "\t<tr><th scope=col>seqnames</th><th scope=col>score</th></tr>\n",
       "\t<tr><th scope=col>&lt;fct&gt;</th><th scope=col>&lt;dbl&gt;</th></tr>\n",
       "</thead>\n",
       "<tbody>\n",
       "\t<tr><td>SW141_genome</td><td>558</td></tr>\n",
       "\t<tr><td>SW143_genome</td><td>  0</td></tr>\n",
       "\t<tr><td>SW144_genome</td><td>  0</td></tr>\n",
       "\t<tr><td>SW146_genome</td><td>164</td></tr>\n",
       "\t<tr><td>SW149_genome</td><td>  1</td></tr>\n",
       "\t<tr><td>SW151_genome</td><td>  0</td></tr>\n",
       "\t<tr><td>SW152_genome</td><td>  0</td></tr>\n",
       "\t<tr><td>SW156_genome</td><td>  0</td></tr>\n",
       "\t<tr><td>SW157_genome</td><td>  0</td></tr>\n",
       "\t<tr><td>SW159_genome</td><td> 36</td></tr>\n",
       "\t<tr><td>SW160_genome</td><td>  0</td></tr>\n",
       "</tbody>\n",
       "</table>\n"
      ],
      "text/latex": [
       "A data.frame: 11 × 2\n",
       "\\begin{tabular}{ll}\n",
       " seqnames & score\\\\\n",
       " <fct> & <dbl>\\\\\n",
       "\\hline\n",
       "\t SW141\\_genome & 558\\\\\n",
       "\t SW143\\_genome &   0\\\\\n",
       "\t SW144\\_genome &   0\\\\\n",
       "\t SW146\\_genome & 164\\\\\n",
       "\t SW149\\_genome &   1\\\\\n",
       "\t SW151\\_genome &   0\\\\\n",
       "\t SW152\\_genome &   0\\\\\n",
       "\t SW156\\_genome &   0\\\\\n",
       "\t SW157\\_genome &   0\\\\\n",
       "\t SW159\\_genome &  36\\\\\n",
       "\t SW160\\_genome &   0\\\\\n",
       "\\end{tabular}\n"
      ],
      "text/markdown": [
       "\n",
       "A data.frame: 11 × 2\n",
       "\n",
       "| seqnames &lt;fct&gt; | score &lt;dbl&gt; |\n",
       "|---|---|\n",
       "| SW141_genome | 558 |\n",
       "| SW143_genome |   0 |\n",
       "| SW144_genome |   0 |\n",
       "| SW146_genome | 164 |\n",
       "| SW149_genome |   1 |\n",
       "| SW151_genome |   0 |\n",
       "| SW152_genome |   0 |\n",
       "| SW156_genome |   0 |\n",
       "| SW157_genome |   0 |\n",
       "| SW159_genome |  36 |\n",
       "| SW160_genome |   0 |\n",
       "\n"
      ],
      "text/plain": [
       "   seqnames     score\n",
       "1  SW141_genome 558  \n",
       "2  SW143_genome   0  \n",
       "3  SW144_genome   0  \n",
       "4  SW146_genome 164  \n",
       "5  SW149_genome   1  \n",
       "6  SW151_genome   0  \n",
       "7  SW152_genome   0  \n",
       "8  SW156_genome   0  \n",
       "9  SW157_genome   0  \n",
       "10 SW159_genome  36  \n",
       "11 SW160_genome   0  "
      ]
     },
     "metadata": {},
     "output_type": "display_data"
    },
    {
     "data": {
      "image/png": "[encoded data removed]",
      "text/plain": [
       "Plot with title “Histogram of bw_s3$score”"
      ]
     },
     "metadata": {
      "image/png": {
       "height": 420,
       "width": 420
      }
     },
     "output_type": "display_data"
    }
   ],
   "source": [
    "bw_s3 <- import.bw(\"../run_300322/coverage/S3.dedup.bam.bw\")\n",
    "hist(bw_s3$score)\n",
    "bw_s3 <- as.data.frame(bw_s3)\n",
    "bw_s3\n",
    "bw_s3_agg <- aggregate(score ~ seqnames, bw_s3, sum)\n",
    "bw_s3_agg"
   ]
  },
  {
   "cell_type": "code",
   "execution_count": 21,
   "id": "0e787b0e",
   "metadata": {},
   "outputs": [
    {
     "data": {
      "text/html": [
       "<table class=\"dataframe\">\n",
       "<caption>A data.frame: 15 × 6</caption>\n",
       "<thead>\n",
       "\t<tr><th scope=col>seqnames</th><th scope=col>start</th><th scope=col>end</th><th scope=col>width</th><th scope=col>strand</th><th scope=col>score</th></tr>\n",
       "\t<tr><th scope=col>&lt;fct&gt;</th><th scope=col>&lt;int&gt;</th><th scope=col>&lt;int&gt;</th><th scope=col>&lt;int&gt;</th><th scope=col>&lt;fct&gt;</th><th scope=col>&lt;dbl&gt;</th></tr>\n",
       "</thead>\n",
       "<tbody>\n",
       "\t<tr><td>SW141_genome</td><td>      1</td><td>2602900</td><td>2602900</td><td>*</td><td>0</td></tr>\n",
       "\t<tr><td>SW141_genome</td><td>2602901</td><td>2603100</td><td>    200</td><td>*</td><td>1</td></tr>\n",
       "\t<tr><td>SW141_genome</td><td>2603101</td><td>3025655</td><td> 422555</td><td>*</td><td>0</td></tr>\n",
       "\t<tr><td>SW143_genome</td><td>      1</td><td>3025655</td><td>3025655</td><td>*</td><td>0</td></tr>\n",
       "\t<tr><td>SW144_genome</td><td>      1</td><td>3025653</td><td>3025653</td><td>*</td><td>0</td></tr>\n",
       "\t<tr><td>SW146_genome</td><td>      1</td><td>1624300</td><td>1624300</td><td>*</td><td>0</td></tr>\n",
       "\t<tr><td>SW146_genome</td><td>1624301</td><td>1624500</td><td>    200</td><td>*</td><td>1</td></tr>\n",
       "\t<tr><td>SW146_genome</td><td>1624501</td><td>3025654</td><td>1401154</td><td>*</td><td>0</td></tr>\n",
       "\t<tr><td>SW149_genome</td><td>      1</td><td>3025655</td><td>3025655</td><td>*</td><td>0</td></tr>\n",
       "\t<tr><td>SW151_genome</td><td>      1</td><td>3025654</td><td>3025654</td><td>*</td><td>0</td></tr>\n",
       "\t<tr><td>SW152_genome</td><td>      1</td><td>3025654</td><td>3025654</td><td>*</td><td>0</td></tr>\n",
       "\t<tr><td>SW156_genome</td><td>      1</td><td>3025654</td><td>3025654</td><td>*</td><td>0</td></tr>\n",
       "\t<tr><td>SW157_genome</td><td>      1</td><td>3025654</td><td>3025654</td><td>*</td><td>0</td></tr>\n",
       "\t<tr><td>SW159_genome</td><td>      1</td><td>3025654</td><td>3025654</td><td>*</td><td>0</td></tr>\n",
       "\t<tr><td>SW160_genome</td><td>      1</td><td>3025654</td><td>3025654</td><td>*</td><td>0</td></tr>\n",
       "</tbody>\n",
       "</table>\n"
      ],
      "text/latex": [
       "A data.frame: 15 × 6\n",
       "\\begin{tabular}{llllll}\n",
       " seqnames & start & end & width & strand & score\\\\\n",
       " <fct> & <int> & <int> & <int> & <fct> & <dbl>\\\\\n",
       "\\hline\n",
       "\t SW141\\_genome &       1 & 2602900 & 2602900 & * & 0\\\\\n",
       "\t SW141\\_genome & 2602901 & 2603100 &     200 & * & 1\\\\\n",
       "\t SW141\\_genome & 2603101 & 3025655 &  422555 & * & 0\\\\\n",
       "\t SW143\\_genome &       1 & 3025655 & 3025655 & * & 0\\\\\n",
       "\t SW144\\_genome &       1 & 3025653 & 3025653 & * & 0\\\\\n",
       "\t SW146\\_genome &       1 & 1624300 & 1624300 & * & 0\\\\\n",
       "\t SW146\\_genome & 1624301 & 1624500 &     200 & * & 1\\\\\n",
       "\t SW146\\_genome & 1624501 & 3025654 & 1401154 & * & 0\\\\\n",
       "\t SW149\\_genome &       1 & 3025655 & 3025655 & * & 0\\\\\n",
       "\t SW151\\_genome &       1 & 3025654 & 3025654 & * & 0\\\\\n",
       "\t SW152\\_genome &       1 & 3025654 & 3025654 & * & 0\\\\\n",
       "\t SW156\\_genome &       1 & 3025654 & 3025654 & * & 0\\\\\n",
       "\t SW157\\_genome &       1 & 3025654 & 3025654 & * & 0\\\\\n",
       "\t SW159\\_genome &       1 & 3025654 & 3025654 & * & 0\\\\\n",
       "\t SW160\\_genome &       1 & 3025654 & 3025654 & * & 0\\\\\n",
       "\\end{tabular}\n"
      ],
      "text/markdown": [
       "\n",
       "A data.frame: 15 × 6\n",
       "\n",
       "| seqnames &lt;fct&gt; | start &lt;int&gt; | end &lt;int&gt; | width &lt;int&gt; | strand &lt;fct&gt; | score &lt;dbl&gt; |\n",
       "|---|---|---|---|---|---|\n",
       "| SW141_genome |       1 | 2602900 | 2602900 | * | 0 |\n",
       "| SW141_genome | 2602901 | 2603100 |     200 | * | 1 |\n",
       "| SW141_genome | 2603101 | 3025655 |  422555 | * | 0 |\n",
       "| SW143_genome |       1 | 3025655 | 3025655 | * | 0 |\n",
       "| SW144_genome |       1 | 3025653 | 3025653 | * | 0 |\n",
       "| SW146_genome |       1 | 1624300 | 1624300 | * | 0 |\n",
       "| SW146_genome | 1624301 | 1624500 |     200 | * | 1 |\n",
       "| SW146_genome | 1624501 | 3025654 | 1401154 | * | 0 |\n",
       "| SW149_genome |       1 | 3025655 | 3025655 | * | 0 |\n",
       "| SW151_genome |       1 | 3025654 | 3025654 | * | 0 |\n",
       "| SW152_genome |       1 | 3025654 | 3025654 | * | 0 |\n",
       "| SW156_genome |       1 | 3025654 | 3025654 | * | 0 |\n",
       "| SW157_genome |       1 | 3025654 | 3025654 | * | 0 |\n",
       "| SW159_genome |       1 | 3025654 | 3025654 | * | 0 |\n",
       "| SW160_genome |       1 | 3025654 | 3025654 | * | 0 |\n",
       "\n"
      ],
      "text/plain": [
       "   seqnames     start   end     width   strand score\n",
       "1  SW141_genome       1 2602900 2602900 *      0    \n",
       "2  SW141_genome 2602901 2603100     200 *      1    \n",
       "3  SW141_genome 2603101 3025655  422555 *      0    \n",
       "4  SW143_genome       1 3025655 3025655 *      0    \n",
       "5  SW144_genome       1 3025653 3025653 *      0    \n",
       "6  SW146_genome       1 1624300 1624300 *      0    \n",
       "7  SW146_genome 1624301 1624500     200 *      1    \n",
       "8  SW146_genome 1624501 3025654 1401154 *      0    \n",
       "9  SW149_genome       1 3025655 3025655 *      0    \n",
       "10 SW151_genome       1 3025654 3025654 *      0    \n",
       "11 SW152_genome       1 3025654 3025654 *      0    \n",
       "12 SW156_genome       1 3025654 3025654 *      0    \n",
       "13 SW157_genome       1 3025654 3025654 *      0    \n",
       "14 SW159_genome       1 3025654 3025654 *      0    \n",
       "15 SW160_genome       1 3025654 3025654 *      0    "
      ]
     },
     "metadata": {},
     "output_type": "display_data"
    },
    {
     "data": {
      "text/html": [
       "<table class=\"dataframe\">\n",
       "<caption>A data.frame: 11 × 2</caption>\n",
       "<thead>\n",
       "\t<tr><th scope=col>seqnames</th><th scope=col>score</th></tr>\n",
       "\t<tr><th scope=col>&lt;fct&gt;</th><th scope=col>&lt;dbl&gt;</th></tr>\n",
       "</thead>\n",
       "<tbody>\n",
       "\t<tr><td>SW141_genome</td><td>1</td></tr>\n",
       "\t<tr><td>SW143_genome</td><td>0</td></tr>\n",
       "\t<tr><td>SW144_genome</td><td>0</td></tr>\n",
       "\t<tr><td>SW146_genome</td><td>1</td></tr>\n",
       "\t<tr><td>SW149_genome</td><td>0</td></tr>\n",
       "\t<tr><td>SW151_genome</td><td>0</td></tr>\n",
       "\t<tr><td>SW152_genome</td><td>0</td></tr>\n",
       "\t<tr><td>SW156_genome</td><td>0</td></tr>\n",
       "\t<tr><td>SW157_genome</td><td>0</td></tr>\n",
       "\t<tr><td>SW159_genome</td><td>0</td></tr>\n",
       "\t<tr><td>SW160_genome</td><td>0</td></tr>\n",
       "</tbody>\n",
       "</table>\n"
      ],
      "text/latex": [
       "A data.frame: 11 × 2\n",
       "\\begin{tabular}{ll}\n",
       " seqnames & score\\\\\n",
       " <fct> & <dbl>\\\\\n",
       "\\hline\n",
       "\t SW141\\_genome & 1\\\\\n",
       "\t SW143\\_genome & 0\\\\\n",
       "\t SW144\\_genome & 0\\\\\n",
       "\t SW146\\_genome & 1\\\\\n",
       "\t SW149\\_genome & 0\\\\\n",
       "\t SW151\\_genome & 0\\\\\n",
       "\t SW152\\_genome & 0\\\\\n",
       "\t SW156\\_genome & 0\\\\\n",
       "\t SW157\\_genome & 0\\\\\n",
       "\t SW159\\_genome & 0\\\\\n",
       "\t SW160\\_genome & 0\\\\\n",
       "\\end{tabular}\n"
      ],
      "text/markdown": [
       "\n",
       "A data.frame: 11 × 2\n",
       "\n",
       "| seqnames &lt;fct&gt; | score &lt;dbl&gt; |\n",
       "|---|---|\n",
       "| SW141_genome | 1 |\n",
       "| SW143_genome | 0 |\n",
       "| SW144_genome | 0 |\n",
       "| SW146_genome | 1 |\n",
       "| SW149_genome | 0 |\n",
       "| SW151_genome | 0 |\n",
       "| SW152_genome | 0 |\n",
       "| SW156_genome | 0 |\n",
       "| SW157_genome | 0 |\n",
       "| SW159_genome | 0 |\n",
       "| SW160_genome | 0 |\n",
       "\n"
      ],
      "text/plain": [
       "   seqnames     score\n",
       "1  SW141_genome 1    \n",
       "2  SW143_genome 0    \n",
       "3  SW144_genome 0    \n",
       "4  SW146_genome 1    \n",
       "5  SW149_genome 0    \n",
       "6  SW151_genome 0    \n",
       "7  SW152_genome 0    \n",
       "8  SW156_genome 0    \n",
       "9  SW157_genome 0    \n",
       "10 SW159_genome 0    \n",
       "11 SW160_genome 0    "
      ]
     },
     "metadata": {},
     "output_type": "display_data"
    },
    {
     "data": {
      "image/png": "[encoded data removed]",
      "text/plain": [
       "Plot with title “Histogram of bw_s4$score”"
      ]
     },
     "metadata": {
      "image/png": {
       "height": 420,
       "width": 420
      }
     },
     "output_type": "display_data"
    }
   ],
   "source": [
    "bw_s4 <- import.bw(\"../run_300322/coverage/S4.dedup.bam.bw\")\n",
    "hist(bw_s4$score)\n",
    "bw_s4 <- as.data.frame(bw_s4)\n",
    "bw_s4\n",
    "bw_s4_agg <- aggregate(score ~ seqnames, bw_s4, sum)\n",
    "bw_s4_agg"
   ]
  }
 ],
 "metadata": {
  "kernelspec": {
   "display_name": "R",
   "language": "R",
   "name": "ir"
  },
  "language_info": {
   "codemirror_mode": "r",
   "file_extension": ".r",
   "mimetype": "text/x-r-source",
   "name": "R",
   "pygments_lexer": "r",
   "version": "4.1.0"
  }
 },
 "nbformat": 4,
 "nbformat_minor": 5
}
